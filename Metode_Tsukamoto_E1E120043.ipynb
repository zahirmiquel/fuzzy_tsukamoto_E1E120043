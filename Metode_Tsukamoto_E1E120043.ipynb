{
 "cells": [
  {
   "cell_type": "code",
   "execution_count": null,
   "id": "cdb119b7",
   "metadata": {},
   "outputs": [],
   "source": [
    "def turun(b,a,x):\n",
    "    if(x<=a):\n",
    "        nilai = 1\n",
    "    elif(x>a and x<b):\n",
    "        nilai = (b-x)/(b-a)\n",
    "    elif(x>=b):\n",
    "        nilai = 0\n",
    "\n",
    "    return nilai"
   ]
  },
  {
   "cell_type": "code",
   "execution_count": null,
   "id": "a9de6132",
   "metadata": {},
   "outputs": [],
   "source": [
    "def naik(b,a,x):\n",
    "    if(x<=a):\n",
    "        nilai = 0\n",
    "    elif(x>a and x<b):\n",
    "        nilai = (x-a)/(b-a)\n",
    "    elif(x>=b):\n",
    "        nilai = 1\n",
    "\n",
    "    return nilai"
   ]
  },
  {
   "cell_type": "code",
   "execution_count": null,
   "id": "1cc5d91e",
   "metadata": {},
   "outputs": [],
   "source": [
    "def agregasi_turun(b,a,alfa):\n",
    "    nilai = b - (alfa*(b-a))\n",
    "    return nilai"
   ]
  },
  {
   "cell_type": "code",
   "execution_count": null,
   "id": "d8951494",
   "metadata": {},
   "outputs": [],
   "source": [
    "def agregasi_naik(b,a,alfa):\n",
    "    nilai = alfa*(b-a) + a\n",
    "    return nilai"
   ]
  },
  {
   "cell_type": "code",
   "execution_count": 28,
   "id": "f31d2f16",
   "metadata": {},
   "outputs": [
    {
     "name": "stdout",
     "output_type": "stream",
     "text": [
      "Jumlah variabel: 3\n",
      "Sebutkan nama variabel: permintaan\n",
      "Sebutkan nama variabel: persediaan\n",
      "Sebutkan nama variabel: produksi\n"
     ]
    }
   ],
   "source": [
    "var = int(input(\"Jumlah variabel: \"))\n",
    "\n",
    "nama_var = []\n",
    "for i in range(var):\n",
    "    nama = input(\"Sebutkan nama variabel: \")\n",
    "    nama_var.append(nama)"
   ]
  },
  {
   "cell_type": "code",
   "execution_count": 29,
   "id": "604fd947",
   "metadata": {},
   "outputs": [
    {
     "name": "stdout",
     "output_type": "stream",
     "text": [
      "permintaan\n",
      "naik : 5000\n",
      "turun : 1000\n",
      "persediaan\n",
      "naik : 600\n",
      "turun : 100\n",
      "produksi\n",
      "naik : 7000\n",
      "turun : 2000\n",
      "{'permintaan_naik': 5000, 'permintaan_turun': 1000, 'persediaan_naik': 600, 'persediaan_turun': 100, 'produksi_naik': 7000, 'produksi_turun': 2000}\n"
     ]
    }
   ],
   "source": [
    "variabel = dict()\n",
    "for i in nama_var:\n",
    "    print(i)\n",
    "    up = int(input(\"naik : \"))\n",
    "    down = int(input(\"turun : \"))\n",
    "    variabel.update({i+\"_naik\":up})\n",
    "    variabel.update({i+\"_turun\":down})\n",
    "    \n",
    "print(variabel)"
   ]
  },
  {
   "cell_type": "code",
   "execution_count": 30,
   "id": "d845e30e",
   "metadata": {},
   "outputs": [
    {
     "name": "stdout",
     "output_type": "stream",
     "text": [
      "Jumlah variabel yang diketahui : 2\n",
      "Nama variabel : permintaan\n",
      "Nilai : 4000\n",
      "Nama variabel : persediaan\n",
      "Nilai : 300\n",
      "{'permintaan': 4000, 'persediaan': 300}\n",
      "Variabel yang ditanyakan : produksi\n"
     ]
    }
   ],
   "source": [
    "soal = dict()\n",
    "\n",
    "jml = int(input(\"Jumlah variabel yang diketahui : \"))\n",
    "\n",
    "for i in range(jml):\n",
    "    ver = input(\"Nama variabel : \")\n",
    "    val = int(input(\"Nilai : \"))   \n",
    "    soal.update({ver:val})\n",
    "    \n",
    "print(soal)\n",
    "\n",
    "dit = input(\"Variabel yang ditanyakan : \")"
   ]
  },
  {
   "cell_type": "code",
   "execution_count": 31,
   "id": "99d9e5c5",
   "metadata": {},
   "outputs": [
    {
     "name": "stdout",
     "output_type": "stream",
     "text": [
      "{'permintaan_naik': 0.75, 'permintaan_turun': 0.25, 'persediaan_naik': 0.4, 'persediaan_turun': 0.6}\n"
     ]
    }
   ],
   "source": [
    "nk = dict()\n",
    "for i in soal:\n",
    "    up = naik(variabel[i+\"_naik\"],variabel[i+\"_turun\"],soal[i])\n",
    "    down = turun(variabel[i+\"_naik\"],variabel[i+\"_turun\"],soal[i])\n",
    "    nk.update({i+\"_naik\":up})\n",
    "    nk.update({i+\"_turun\":down})\n",
    "\n",
    "print(nk)"
   ]
  },
  {
   "cell_type": "code",
   "execution_count": 32,
   "id": "57543008",
   "metadata": {},
   "outputs": [
    {
     "ename": "SyntaxError",
     "evalue": "invalid syntax (1038436530.py, line 1)",
     "output_type": "error",
     "traceback": [
      "\u001b[1;36m  File \u001b[1;32m\"C:\\Users\\zahir\\AppData\\Local\\Temp\\ipykernel_7612\\1038436530.py\"\u001b[1;36m, line \u001b[1;32m1\u001b[0m\n\u001b[1;33m    [R1]   IF permintaan TURUN AND Persediaan BANYAK, THEN Produksi Barang dr;\u001b[0m\n\u001b[1;37m           ^\u001b[0m\n\u001b[1;31mSyntaxError\u001b[0m\u001b[1;31m:\u001b[0m invalid syntax\n"
     ]
    }
   ],
   "source": [
    "[R1]   IF permintaan TURUN AND Persediaan BANYAK, THEN Produksi Barang dr;\n",
    "[R2]   IF permintaan TURUN AND Persediaan SEDIKIT, THEN Produksi Barang BERKURANG;\n",
    "[R3]   IF permintaan NAIK AND Persediaan BANYAK, THEN Produksi Barang BERTAMBAH;\n",
    "[R4]   IF permintaan NAIK AND Persediaan SEDIKIT, THEN Produksi Barang BERTAMBAH;"
   ]
  },
  {
   "cell_type": "code",
   "execution_count": 34,
   "id": "1bf8a40f",
   "metadata": {},
   "outputs": [
    {
     "name": "stdout",
     "output_type": "stream",
     "text": [
      "Masukkan jumlah peraturan : 4\n",
      "Kondisi 1(naik/turun): permintaan_turun\n",
      "Kondisi 2(naik/turun): persediaan_naik\n",
      "Kesimpulan(naik/turun): turun\n",
      "Kondisi 1(naik/turun): permintaan_turun\n",
      "Kondisi 2(naik/turun): persediaan_turun\n",
      "Kesimpulan(naik/turun): turun\n",
      "Kondisi 1(naik/turun): permintaan_naik\n",
      "Kondisi 2(naik/turun): persediaan_naik\n",
      "Kesimpulan(naik/turun): naik\n",
      "Kondisi 1(naik/turun): permintaan_naik\n",
      "Kondisi 2(naik/turun): persediaan_turun\n",
      "Kesimpulan(naik/turun): naik\n"
     ]
    }
   ],
   "source": [
    "#AGREGASI\n",
    "alfa = []\n",
    "z = []\n",
    "\n",
    "r = int(input(\"Masukkan jumlah peraturan : \"))\n",
    "\n",
    "for i in range(r):\n",
    "    kondisi1 = input(\"Kondisi 1(naik/turun): \")\n",
    "    kondisi2 = input(\"Kondisi 2(naik/turun): \")\n",
    "    kesimpulan = input(\"Kesimpulan(naik/turun): \")\n",
    "    #Fire Strength INTERSEKSI (AND)\n",
    "    a = min(nk[kondisi1],nk[kondisi2]) \n",
    "    alfa.append(a)\n",
    "    if(kesimpulan == \"turun\"):\n",
    "        zz = agregasi_turun(variabel[dit+\"_naik\"],variabel[dit+\"_turun\"],a)\n",
    "    elif(kesimpulan == \"naik\"):\n",
    "        zz = agregasi_naik(variabel[dit+\"_naik\"],variabel[dit+\"_turun\"],a)        \n",
    "    z.append(zz)"
   ]
  },
  {
   "cell_type": "code",
   "execution_count": 35,
   "id": "cc17bd34",
   "metadata": {},
   "outputs": [
    {
     "name": "stdout",
     "output_type": "stream",
     "text": [
      "[0.25, 0.25, 0.4, 0.6]\n",
      "[5750.0, 5750.0, 4000.0, 5000.0]\n"
     ]
    }
   ],
   "source": [
    "print(alfa)\n",
    "print(z)"
   ]
  },
  {
   "cell_type": "code",
   "execution_count": 36,
   "id": "c06119e8",
   "metadata": {},
   "outputs": [
    {
     "name": "stdout",
     "output_type": "stream",
     "text": [
      "Jadi, nilai  produksi  adalah  4983\n"
     ]
    }
   ],
   "source": [
    "#DEFUZIFIKASI\n",
    "df = 0\n",
    "\n",
    "for i in range(len(alfa)):\n",
    "    df += alfa[i]*z[i]\n",
    "\n",
    "defuz = int(df/sum(alfa))\n",
    "\n",
    "print(\"Jadi, nilai \",dit,\" adalah \",defuz)"
   ]
  },
  {
   "cell_type": "code",
   "execution_count": null,
   "id": "fd437d5c",
   "metadata": {},
   "outputs": [],
   "source": []
  }
 ],
 "metadata": {
  "kernelspec": {
   "display_name": "Python 3 (ipykernel)",
   "language": "python",
   "name": "python3"
  },
  "language_info": {
   "codemirror_mode": {
    "name": "ipython",
    "version": 3
   },
   "file_extension": ".py",
   "mimetype": "text/x-python",
   "name": "python",
   "nbconvert_exporter": "python",
   "pygments_lexer": "ipython3",
   "version": "3.9.13"
  }
 },
 "nbformat": 4,
 "nbformat_minor": 5
}
